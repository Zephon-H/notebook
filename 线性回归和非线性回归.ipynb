{
  "nbformat": 4,
  "nbformat_minor": 0,
  "metadata": {
    "colab": {
      "name": "线性回归和非线性回归.ipynb",
      "provenance": [],
      "mount_file_id": "1xQS7B42W5e15x2RgdmwDHUZVn7lj3iVR",
      "authorship_tag": "ABX9TyMJGd6989fvd2wg+f55QkSI",
      "include_colab_link": true
    },
    "kernelspec": {
      "name": "python3",
      "display_name": "Python 3"
    }
  },
  "cells": [
    {
      "cell_type": "markdown",
      "metadata": {
        "id": "view-in-github",
        "colab_type": "text"
      },
      "source": [
        "<a href=\"https://colab.research.google.com/github/Zephon-H/notebook/blob/main/%E7%BA%BF%E6%80%A7%E5%9B%9E%E5%BD%92%E5%92%8C%E9%9D%9E%E7%BA%BF%E6%80%A7%E5%9B%9E%E5%BD%92.ipynb\" target=\"_parent\"><img src=\"https://colab.research.google.com/assets/colab-badge.svg\" alt=\"Open In Colab\"/></a>"
      ]
    },
    {
      "cell_type": "markdown",
      "metadata": {
        "id": "VTELm-81PQf4"
      },
      "source": [
        "## 知识框架\n",
        "\n",
        "### 数学基础\n",
        "- 微积分\n",
        "- 线性代数\n",
        "- 概率统计\n",
        "### 编程基础\n",
        "- Python\n",
        "- C++\n",
        "### 理论基础\n",
        "- 有监督学习\n",
        "- 无监督学习\n",
        "- 训练集\n",
        "用来训练，构建模型\n",
        "- 验证集\n",
        "用来在模型训练阶段测试模型的好坏\n",
        "- 测试集\n",
        "等模型训练好后，再用测试集来评估模型的好坏\n",
        "- 过拟合\n",
        "- 梯度下降法\n",
        "- 正则化\n",
        "- 代价函数\n",
        "### 机器学习算法\n",
        "- 决策树\n",
        "- KNN\n",
        "- KMEANS\n",
        "- SVM\n",
        "- 线性回归\n",
        "### 深度学习算法\n",
        "- BP\n",
        "- CNN\n",
        "- LSTM\n",
        "- GANS\n",
        "### 实际应用\n",
        "- 图像识别\n",
        "- 垃圾邮件分类\n",
        "- 语音识别"
      ]
    },
    {
      "cell_type": "code",
      "metadata": {
        "id": "5tCRE6FxXLtA"
      },
      "source": [
        "import numpy as np\n",
        "import matplotlib.pyplot as plt"
      ],
      "execution_count": null,
      "outputs": []
    },
    {
      "cell_type": "code",
      "metadata": {
        "colab": {
          "base_uri": "https://localhost:8080/",
          "height": 265
        },
        "id": "oN6XVZ9TQUIY",
        "outputId": "c27bab16-4900-4fc8-feb6-44e46139fb88"
      },
      "source": [
        "# 读取数据\n",
        "data = np.genfromtxt('data.csv', delimiter=',')\n",
        "x_data = data[:,0]\n",
        "y_data = data[:,1]\n",
        "plt.scatter(x_data,y_data)\n",
        "plt.show()"
      ],
      "execution_count": null,
      "outputs": [
        {
          "output_type": "display_data",
          "data": {
            "image/png": "[encoded data removed]",
            "text/plain": [
              "<Figure size 432x288 with 1 Axes>"
            ]
          },
          "metadata": {
            "tags": [],
            "needs_background": "light"
          }
        }
      ]
    },
    {
      "cell_type": "code",
      "metadata": {
        "id": "u3MrhYc3R7yR"
      },
      "source": [
        "# 学习率\n",
        "learning_rate = 0.0001\n",
        "# 截距\n",
        "b = 0\n",
        "# 斜率\n",
        "k = 0\n",
        "# 最大迭代数\n",
        "epochs = 100\n",
        "\n",
        "# 最小二乘法\n",
        "def compute_error(b, k, x_data, y_data):\n",
        "  total_error = 0\n",
        "  for i in range(0,len(x_data)):\n",
        "    total_error += (y_data[i] - (k*x_data[i] + b)) ** 2\n",
        "  return total_error / float(len(x_data)) / 2.0\n",
        "\n",
        "# 梯度下降\n",
        "def gradient_decscent_runner(x_data, y_data, b, k, learning_rate, epochs):\n",
        "  # 计算总数据量\n",
        "  m = float(len(x_data))\n",
        "  for i in range(epochs):\n",
        "    b_grad = 0\n",
        "    k_grad = 0\n",
        "    # 计算梯度的总和再求平均\n",
        "    for j in range(0, len(x_data)):\n",
        "      b_grad += (1/m) * ((k * x_data[j] + b) - y_data[j])\n",
        "      k_grad += (1/m) * x_data[j] * ((k * x_data[j] + b) - y_data[j])\n",
        "    # 更新b和k\n",
        "    b = b - learning_rate*b_grad\n",
        "    k = k - learning_rate*k_grad\n",
        "    # 每迭代5次，输出一次图像\n",
        "    # if i % 5 == 0:\n",
        "    #   print(\"epochs:\",i)\n",
        "    #   print(compute_error(b,k,x_data,y_data))\n",
        "    #   plt.plot(x_data, y_data, 'b. ')\n",
        "    #   plt.plot(x_data, k*x_data + b, 'r')\n",
        "    #   plt.show()\n",
        "  return b, k"
      ],
      "execution_count": null,
      "outputs": []
    },
    {
      "cell_type": "code",
      "metadata": {
        "colab": {
          "base_uri": "https://localhost:8080/",
          "height": 282
        },
        "id": "NeVQjPtyigAN",
        "outputId": "7d769e99-adc3-4824-9d0d-7d558d7d92e7"
      },
      "source": [
        "b, k = gradient_decscent_runner(x_data, y_data, b, k, learning_rate, epochs)\n",
        "print(\"b={0},k={1},error={2}\".format(b, k, compute_error(b,k,x_data,y_data)))\n",
        "plt.plot(x_data, y_data, 'b.')\n",
        "plt.plot(x_data, k*x_data + b, 'r')\n",
        "plt.show()"
      ],
      "execution_count": null,
      "outputs": [
        {
          "output_type": "stream",
          "text": [
            "b=0.032071915131595685,k=1.4788617416703924,error=56.32443049894261\n"
          ],
          "name": "stdout"
        },
        {
          "output_type": "display_data",
          "data": {
            "image/png": "[encoded data removed]",
            "text/plain": [
              "<Figure size 432x288 with 1 Axes>"
            ]
          },
          "metadata": {
            "tags": [],
            "needs_background": "light"
          }
        }
      ]
    },
    {
      "cell_type": "code",
      "metadata": {
        "colab": {
          "base_uri": "https://localhost:8080/",
          "height": 265
        },
        "id": "m-Xz5AxKITXl",
        "outputId": "e4b6b3bd-6ece-4b11-d4fe-e6f27c916642"
      },
      "source": [
        "# 读取数据\n",
        "data = np.genfromtxt('data.csv', delimiter=',')\n",
        "x_data = data[:,0]\n",
        "y_data = data[:,1]\n",
        "plt.scatter(x_data,y_data)\n",
        "plt.show()"
      ],
      "execution_count": null,
      "outputs": [
        {
          "output_type": "display_data",
          "data": {
            "image/png": "[encoded data removed]",
            "text/plain": [
              "<Figure size 432x288 with 1 Axes>"
            ]
          },
          "metadata": {
            "tags": [],
            "needs_background": "light"
          }
        }
      ]
    },
    {
      "cell_type": "code",
      "metadata": {
        "id": "5gXhaOlPiigw",
        "colab": {
          "base_uri": "https://localhost:8080/",
          "height": 265
        },
        "outputId": "55f9a3fc-779d-4fe0-ebaf-0384df3595a0"
      },
      "source": [
        "# 导入线性回归模型\n",
        "from sklearn.linear_model import LinearRegression\n",
        "x_data = data[:, 0, np.newaxis]\n",
        "y_data = data[:, 1, np.newaxis]\n",
        "# 创建并拟合模型\n",
        "model = LinearRegression()\n",
        "model.fit(x_data, y_data)\n",
        "plt.plot(x_data, y_data, 'b.')\n",
        "plt.plot(x_data, model.predict(x_data), 'r')\n",
        "plt.show()"
      ],
      "execution_count": null,
      "outputs": [
        {
          "output_type": "display_data",
          "data": {
            "image/png": "[encoded data removed]",
            "text/plain": [
              "<Figure size 432x288 with 1 Axes>"
            ]
          },
          "metadata": {
            "tags": [],
            "needs_background": "light"
          }
        }
      ]
    },
    {
      "cell_type": "markdown",
      "metadata": {
        "id": "FOWRAZnSKfZ5"
      },
      "source": [
        "## 多元线性回归"
      ]
    },
    {
      "cell_type": "code",
      "metadata": {
        "id": "5mJSkBe2K1sa"
      },
      "source": [
        "import numpy as np\n",
        "import matplotlib.pyplot as plt\n",
        "from mpl_toolkits.mplot3d import Axes3D"
      ],
      "execution_count": null,
      "outputs": []
    },
    {
      "cell_type": "code",
      "metadata": {
        "colab": {
          "base_uri": "https://localhost:8080/"
        },
        "id": "yGsHnoSkILrT",
        "outputId": "6094e6b6-f7bb-44fa-8424-b3fda667aee0"
      },
      "source": [
        "data = np.genfromtxt('Delivery.csv',delimiter=',')\n",
        "x_data = data[:,:-1]\n",
        "y_data = data[:,-1]\n",
        "x_data,y_data"
      ],
      "execution_count": null,
      "outputs": [
        {
          "output_type": "execute_result",
          "data": {
            "text/plain": [
              "(array([[100.,   4.],\n",
              "        [ 50.,   3.],\n",
              "        [100.,   4.],\n",
              "        [100.,   2.],\n",
              "        [ 50.,   2.],\n",
              "        [ 80.,   2.],\n",
              "        [ 75.,   3.],\n",
              "        [ 65.,   4.],\n",
              "        [ 90.,   3.],\n",
              "        [ 90.,   2.]]),\n",
              " array([9.3, 4.8, 8.9, 6.5, 4.2, 6.2, 7.4, 6. , 7.6, 6.1]))"
            ]
          },
          "metadata": {
            "tags": []
          },
          "execution_count": 86
        }
      ]
    },
    {
      "cell_type": "code",
      "metadata": {
        "id": "o_h72PocKurc"
      },
      "source": [
        "lr = 0.0001\n",
        "theta0 = 0\n",
        "theta1 = 0\n",
        "theta2 = 0\n",
        "epochs = 1000\n",
        "\n",
        "def compute_error(theta0, theta1, theta2):\n",
        "  total_error = 0\n",
        "  for i in range(len(x_data)):\n",
        "    total_error += (y_data[i] - (theta1 * x_data[i,0] + theta2*x_data[i,1] + theta0)) ** 2\n",
        "  return total_error / float(len(x_data))\n",
        "\n",
        "def gradient_descent(x_data, y_data, theta0, theta1, theta2, lr, epochs):\n",
        "  m = float(len(x_data))\n",
        "  for i in range(epochs):\n",
        "      theta0_grad = 0\n",
        "      theta1_grad = 0\n",
        "      theta2_grad = 0\n",
        "      for j in range(len(x_data)):\n",
        "        theta0_grad += (1/m)*(x_data[j,0]*theta1 + x_data[j,1]*theta2 + theta0 - y_data[j])\n",
        "        theta1_grad += (1/m)*(x_data[j,0]*theta1 + x_data[j,1]*theta2 + theta0 - y_data[j])*x_data[j,0]\n",
        "        theta1_grad += (1/m)*(x_data[j,0]*theta1 + x_data[j,1]*theta2 + theta0 - y_data[j])*x_data[j,1]\n",
        "      theta0 -= lr*theta0_grad\n",
        "      theta1 -= lr*theta1_grad\n",
        "      theta2 -= lr*theta2_grad\n",
        "  return theta0, theta1, theta2"
      ],
      "execution_count": null,
      "outputs": []
    },
    {
      "cell_type": "code",
      "metadata": {
        "colab": {
          "base_uri": "https://localhost:8080/"
        },
        "id": "OmZ5j3jyM2Ln",
        "outputId": "8df6db53-1100-4e1f-e5de-76e0c577730b"
      },
      "source": [
        "theta0, theta1, theta2 = gradient_descent(x_data,y_data,theta0,theta1,theta2,lr,epochs)\n",
        "print(\"theta0={0},theta1={1},theta2={2},error={3}\".format(theta0,theta1,theta2,compute_error(theta0, theta1, theta2)))"
      ],
      "execution_count": null,
      "outputs": [
        {
          "output_type": "stream",
          "text": [
            "theta0=0.006563784947706691,theta1=0.08296819645374055,theta2=0.0,error=0.8851061820669204\n"
          ],
          "name": "stdout"
        }
      ]
    },
    {
      "cell_type": "code",
      "metadata": {
        "colab": {
          "base_uri": "https://localhost:8080/",
          "height": 248
        },
        "id": "4RhelO-CNEpJ",
        "outputId": "3ea88ef7-7a2e-4c69-8ba2-5c500cfe4c5a"
      },
      "source": [
        "ax = plt.figure().add_subplot(111, projection= '3d')\n",
        "ax.scatter(x_data[:,0], x_data[:,1],y_data, c='r', marker='o', s=100)\n",
        "x0 = x_data[:,0]\n",
        "x1 = x_data[:,1]\n",
        "x0, x1 = np.meshgrid(x0,x1)\n",
        "z = theta0 + x0 * theta1 + x1*theta2\n",
        "ax.plot_surface(x0,x1,z)\n",
        "plt.show()"
      ],
      "execution_count": null,
      "outputs": [
        {
          "output_type": "display_data",
          "data": {
            "image/png": "[encoded data removed]",
            "text/plain": [
              "<Figure size 432x288 with 1 Axes>"
            ]
          },
          "metadata": {
            "tags": [],
            "needs_background": "light"
          }
        }
      ]
    },
    {
      "cell_type": "code",
      "metadata": {
        "colab": {
          "base_uri": "https://localhost:8080/"
        },
        "id": "qw3YnMfBOxtQ",
        "outputId": "76f8a709-f7ba-4213-8b89-363ae8ed2bdf"
      },
      "source": [
        "from sklearn.linear_model import LinearRegression\n",
        "model = LinearRegression()\n",
        "model.fit(x_data, y_data)"
      ],
      "execution_count": null,
      "outputs": [
        {
          "output_type": "execute_result",
          "data": {
            "text/plain": [
              "LinearRegression(copy_X=True, fit_intercept=True, n_jobs=None, normalize=False)"
            ]
          },
          "metadata": {
            "tags": []
          },
          "execution_count": 92
        }
      ]
    },
    {
      "cell_type": "code",
      "metadata": {
        "colab": {
          "base_uri": "https://localhost:8080/"
        },
        "id": "7CMzVIMvQZS4",
        "outputId": "679ff54e-bd3b-4626-ffd1-da8f0096b8f1"
      },
      "source": [
        "print(\"coefficients:\",model.coef_)\n",
        "print(\"intercept:\",model.intercept_)"
      ],
      "execution_count": null,
      "outputs": [
        {
          "output_type": "stream",
          "text": [
            "coefficients: [0.0611346  0.92342537]\n",
            "intercept: -0.868701466781709\n"
          ],
          "name": "stdout"
        }
      ]
    },
    {
      "cell_type": "code",
      "metadata": {
        "colab": {
          "base_uri": "https://localhost:8080/",
          "height": 248
        },
        "id": "e8hQZ8p8QpVY",
        "outputId": "18df893a-b3bc-4a13-c349-7fa1c6fcfde5"
      },
      "source": [
        "ax = plt.figure().add_subplot(111, projection= '3d')\n",
        "ax.scatter(x_data[:,0], x_data[:,1],y_data, c='r', marker='o', s=100)\n",
        "x0 = x_data[:,0]\n",
        "x1 = x_data[:,1]\n",
        "x0, x1 = np.meshgrid(x0,x1)\n",
        "z = model.intercept_ + x0*model.coef_[0] + x1*model.coef_[1]\n",
        "ax.plot_surface(x0,x1,z)\n",
        "plt.show()"
      ],
      "execution_count": null,
      "outputs": [
        {
          "output_type": "display_data",
          "data": {
            "image/png": "[encoded data removed]",
            "text/plain": [
              "<Figure size 432x288 with 1 Axes>"
            ]
          },
          "metadata": {
            "tags": [],
            "needs_background": "light"
          }
        }
      ]
    },
    {
      "cell_type": "markdown",
      "metadata": {
        "id": "d-GUMm9dRMvs"
      },
      "source": [
        "## 多项式回归\n",
        "$$\n",
        "\\theta_0 + \\theta_1x+\\theta_2x^2+\\cdots\n",
        "$$\n"
      ]
    },
    {
      "cell_type": "code",
      "metadata": {
        "id": "ORrBPxl5Q-rO"
      },
      "source": [
        "import numpy as np\n",
        "import matplotlib.pyplot as plt\n",
        "from sklearn.preprocessing import PolynomialFeatures\n",
        "from sklearn.linear_model import LinearRegression"
      ],
      "execution_count": null,
      "outputs": []
    },
    {
      "cell_type": "code",
      "metadata": {
        "colab": {
          "base_uri": "https://localhost:8080/",
          "height": 293
        },
        "id": "S6z45X_HRjhA",
        "outputId": "8d327c72-3530-41f1-ff78-14c5ac497bd4"
      },
      "source": [
        "data = np.genfromtxt('job.csv', delimiter=',')\n",
        "x_data = data[1:,1]\n",
        "y_data = data[1:,2]\n",
        "plt.scatter(x_data,y_data)"
      ],
      "execution_count": null,
      "outputs": [
        {
          "output_type": "execute_result",
          "data": {
            "text/plain": [
              "<matplotlib.collections.PathCollection at 0x7f0bc031a6a0>"
            ]
          },
          "metadata": {
            "tags": []
          },
          "execution_count": 103
        },
        {
          "output_type": "display_data",
          "data": {
            "image/png": "[encoded data removed]",
            "text/plain": [
              "<Figure size 432x288 with 1 Axes>"
            ]
          },
          "metadata": {
            "tags": [],
            "needs_background": "light"
          }
        }
      ]
    },
    {
      "cell_type": "code",
      "metadata": {
        "colab": {
          "base_uri": "https://localhost:8080/",
          "height": 276
        },
        "id": "ocz5QM3iR5Ul",
        "outputId": "06819396-dd1e-49af-8c63-c3a532d8ce1f"
      },
      "source": [
        "x_data = data[1:,1,np.newaxis]\n",
        "y_data = data[1:,2,np.newaxis]\n",
        "model = LinearRegression()\n",
        "model.fit(x_data,y_data)\n",
        "plt.plot(x_data,y_data,'b.')\n",
        "plt.plot(x_data,model.predict(x_data),'r')\n",
        "plt.show()"
      ],
      "execution_count": null,
      "outputs": [
        {
          "output_type": "display_data",
          "data": {
            "image/png": "[encoded data removed]",
            "text/plain": [
              "<Figure size 432x288 with 1 Axes>"
            ]
          },
          "metadata": {
            "tags": [],
            "needs_background": "light"
          }
        }
      ]
    },
    {
      "cell_type": "code",
      "metadata": {
        "colab": {
          "base_uri": "https://localhost:8080/"
        },
        "id": "O18ApFQaSTqq",
        "outputId": "d209562a-78a3-49d9-c10d-fb04acdfb981"
      },
      "source": [
        "# 定义多项式回归，degree可以调节多项式的特征\n",
        "poly_reg = PolynomialFeatures(degree=3)\n",
        "# 特征处理\n",
        "x_poly = poly_reg.fit_transform(x_data)\n",
        "# 定义回归模型\n",
        "lin_reg = LinearRegression()\n",
        "# 训练模型\n",
        "lin_reg.fit(x_poly, y_data)"
      ],
      "execution_count": null,
      "outputs": [
        {
          "output_type": "execute_result",
          "data": {
            "text/plain": [
              "LinearRegression(copy_X=True, fit_intercept=True, n_jobs=None, normalize=False)"
            ]
          },
          "metadata": {
            "tags": []
          },
          "execution_count": 119
        }
      ]
    },
    {
      "cell_type": "code",
      "metadata": {
        "colab": {
          "base_uri": "https://localhost:8080/",
          "height": 276
        },
        "id": "zDAeYazsS-lh",
        "outputId": "24a06b00-51af-4952-8c9f-54838691ea69"
      },
      "source": [
        "plt.plot(x_data, y_data, 'b.')\n",
        "plt.plot(x_data, lin_reg.predict(poly_reg.fit_transform(x_data)), c='r')\n",
        "plt.show()"
      ],
      "execution_count": null,
      "outputs": [
        {
          "output_type": "display_data",
          "data": {
            "image/png": "[encoded data removed]",
            "text/plain": [
              "<Figure size 432x288 with 1 Axes>"
            ]
          },
          "metadata": {
            "tags": [],
            "needs_background": "light"
          }
        }
      ]
    },
    {
      "cell_type": "markdown",
      "metadata": {
        "id": "9ARwwiGyG1FQ"
      },
      "source": [
        "## 标准方程法\n",
        "$$\n",
        "w = (X^TX)^{-1}X^Ty\n",
        "$$"
      ]
    },
    {
      "cell_type": "code",
      "metadata": {
        "id": "_HmtC6l9TtZB"
      },
      "source": [
        "import numpy as np\n",
        "import matplotlib.pyplot as plt"
      ],
      "execution_count": null,
      "outputs": []
    },
    {
      "cell_type": "code",
      "metadata": {
        "colab": {
          "base_uri": "https://localhost:8080/",
          "height": 265
        },
        "id": "5ZTr6X0ZHB7D",
        "outputId": "8eb99ac9-8a5a-4689-aed5-f1c5617227cf"
      },
      "source": [
        "data = np.genfromtxt('data.csv', delimiter=',')\n",
        "x_data = data[:,0,np.newaxis]\n",
        "y_data = data[:,1,np.newaxis]\n",
        "plt.scatter(x_data, y_data)\n",
        "plt.show()"
      ],
      "execution_count": null,
      "outputs": [
        {
          "output_type": "display_data",
          "data": {
            "image/png": "[encoded data removed]",
            "text/plain": [
              "<Figure size 432x288 with 1 Axes>"
            ]
          },
          "metadata": {
            "tags": [],
            "needs_background": "light"
          }
        }
      ]
    },
    {
      "cell_type": "code",
      "metadata": {
        "id": "vzwL96YSHRdg"
      },
      "source": [
        "X_data = np.concatenate((np.ones((100,1)),x_data),axis=1)"
      ],
      "execution_count": null,
      "outputs": []
    },
    {
      "cell_type": "code",
      "metadata": {
        "id": "WMdf6teNIFjo"
      },
      "source": [
        "# 标准方程法求解回归参数\n",
        "# w = (X^TX)^(-1)X^Ty\n",
        "def weights(xArr, yArr):\n",
        "  xMat = np.mat(xArr)\n",
        "  yMat = np.mat(yArr)\n",
        "  xTx = xMat.T * xMat\n",
        "  if np.linalg.det(xTx) == 0.0:\n",
        "    return\n",
        "  ws = xTx.I * xMat.T * yMat\n",
        "  return ws"
      ],
      "execution_count": null,
      "outputs": []
    },
    {
      "cell_type": "code",
      "metadata": {
        "colab": {
          "base_uri": "https://localhost:8080/"
        },
        "id": "Vk8C9BiFH-CH",
        "outputId": "a7be6ce1-461c-4aae-8c38-e61dd6e6bb94"
      },
      "source": [
        "ws = weights(X_data,y_data)\n",
        "ws"
      ],
      "execution_count": null,
      "outputs": [
        {
          "output_type": "execute_result",
          "data": {
            "text/plain": [
              "matrix([[7.99102098],\n",
              "        [1.32243102]])"
            ]
          },
          "metadata": {
            "tags": []
          },
          "execution_count": 19
        }
      ]
    },
    {
      "cell_type": "code",
      "metadata": {
        "id": "PdCCD-w2IpKy",
        "colab": {
          "base_uri": "https://localhost:8080/",
          "height": 265
        },
        "outputId": "7f0123b1-c46d-4c5f-e52a-1ec5f52e9ce8"
      },
      "source": [
        "plt.plot(x_data,y_data, 'b.')\n",
        "plt.plot(x_data,ws[0] + x_data*ws[1], 'r')\n",
        "plt.show()"
      ],
      "execution_count": null,
      "outputs": [
        {
          "output_type": "display_data",
          "data": {
            "image/png": "[encoded data removed]",
            "text/plain": [
              "<Figure size 432x288 with 1 Axes>"
            ]
          },
          "metadata": {
            "tags": [],
            "needs_background": "light"
          }
        }
      ]
    },
    {
      "cell_type": "markdown",
      "metadata": {
        "id": "0LS9uCl8M1kM"
      },
      "source": [
        "## 特征缩放\n",
        "### 数据归一化\n",
        "$$\n",
        "新值 = \\frac{旧值-最小值}{最大值-最小值}\n",
        "$$\n",
        "newValue = (oldValue-min) / (max-min)\n",
        "\n",
        "### 均值标准化\n",
        "$$\n",
        "新值 = \\frac{旧值 - 平均值}{方差}\n",
        "$$\n",
        "newValue = (oldValue - u) / s(u：平均值，s:方差)\n",
        "\n",
        "## 防止过拟合\n",
        "1. 减少特征\n",
        "2. 增加数据量\n",
        "3. 正则化(Regularized)\n",
        "\n",
        "### 正则化\n",
        "\n",
        "正则化个代价函数\n",
        "\n",
        "- L1正则化：\n",
        "$$\n",
        "J(\\theta) = \\frac{1}{2m} [\\sum_{i=1}^m(h_\\theta(x^{(i)})-y^{(i)})^2 + \\lambda \\sum_{j=1}^n \\theta_j^2 \\ ]\n",
        "$$\n",
        "- L2正则化：\n",
        "$$\n",
        "J(\\theta) = \\frac{1}{2m} [\\sum_{i=1}^m(h_\\theta(x^{(i)})-y^{(i)})^2 + \\lambda \\sum_{j=1}^n |\\theta_j| \\ ]\n",
        "$$"
      ]
    },
    {
      "cell_type": "markdown",
      "metadata": {
        "id": "tBkwn-mMQ77T"
      },
      "source": [
        "## 岭回归(Ridge Regression)\n",
        "标准方程法中如果数据的特征比样本点还多，数据特征n，样本个数m，如果n>m,则计算$(X^TX)^{-1}$时会出错，因为$(X^TX)$不是满秩矩阵，所以不可逆。 \n",
        "\n",
        "为解决这个问题，引入岭回归的概念\n",
        "$$\n",
        "w = (X^TX+\\lambda I)^{-1}X^Ty\n",
        "$$\n",
        "$\\lambda$ 为岭系数，$I$为单位矩阵\n",
        "\n",
        "$$\n",
        "J(\\theta) = \\frac{1}{2} \\sum_{i=1}^n (h_\\theta(x_i)-y_i)^2 + \\lambda \\sum_i^n \\theta_i^2 \\\\\n",
        "J(\\theta) = \\frac{1}{2} (X \\theta - Y)^T (X\\theta - Y) + \\lambda \\theta^T \\theta \\\\\n",
        "\\frac{\\partial J(\\theta)}{\\partial \\theta} = X^TX\\theta - X^T Y + \\lambda \\theta \\\\\n",
        "\\theta = (X^TX + \\lambda I)^{-1}X^TY\n",
        "$$"
      ]
    },
    {
      "cell_type": "markdown",
      "metadata": {
        "id": "Ijk5W6tDVXoV"
      },
      "source": [
        "## sklearn-岭回归"
      ]
    },
    {
      "cell_type": "code",
      "metadata": {
        "id": "W7ZDMQ7NI6eQ"
      },
      "source": [
        "import numpy as np\n",
        "import matplotlib.pyplot as plt\n",
        "from sklearn import linear_model"
      ],
      "execution_count": null,
      "outputs": []
    },
    {
      "cell_type": "code",
      "metadata": {
        "colab": {
          "base_uri": "https://localhost:8080/"
        },
        "id": "1l_cQwV5Lp2j",
        "outputId": "95611487-8f2c-4368-f3f3-272b2d1e2d12"
      },
      "source": [
        "data = np.genfromtxt('longley.csv', delimiter = ',')\n",
        "data"
      ],
      "execution_count": null,
      "outputs": [
        {
          "output_type": "execute_result",
          "data": {
            "text/plain": [
              "array([[     nan,      nan,      nan,      nan,      nan,      nan,\n",
              "             nan,      nan],\n",
              "       [     nan,   83.   ,  234.289,  235.6  ,  159.   ,  107.608,\n",
              "        1947.   ,   60.323],\n",
              "       [     nan,   88.5  ,  259.426,  232.5  ,  145.6  ,  108.632,\n",
              "        1948.   ,   61.122],\n",
              "       [     nan,   88.2  ,  258.054,  368.2  ,  161.6  ,  109.773,\n",
              "        1949.   ,   60.171],\n",
              "       [     nan,   89.5  ,  284.599,  335.1  ,  165.   ,  110.929,\n",
              "        1950.   ,   61.187],\n",
              "       [     nan,   96.2  ,  328.975,  209.9  ,  309.9  ,  112.075,\n",
              "        1951.   ,   63.221],\n",
              "       [     nan,   98.1  ,  346.999,  193.2  ,  359.4  ,  113.27 ,\n",
              "        1952.   ,   63.639],\n",
              "       [     nan,   99.   ,  365.385,  187.   ,  354.7  ,  115.094,\n",
              "        1953.   ,   64.989],\n",
              "       [     nan,  100.   ,  363.112,  357.8  ,  335.   ,  116.219,\n",
              "        1954.   ,   63.761],\n",
              "       [     nan,  101.2  ,  397.469,  290.4  ,  304.8  ,  117.388,\n",
              "        1955.   ,   66.019],\n",
              "       [     nan,  104.6  ,  419.18 ,  282.2  ,  285.7  ,  118.734,\n",
              "        1956.   ,   67.857],\n",
              "       [     nan,  108.4  ,  442.769,  293.6  ,  279.8  ,  120.445,\n",
              "        1957.   ,   68.169],\n",
              "       [     nan,  110.8  ,  444.546,  468.1  ,  263.7  ,  121.95 ,\n",
              "        1958.   ,   66.513],\n",
              "       [     nan,  112.6  ,  482.704,  381.3  ,  255.2  ,  123.366,\n",
              "        1959.   ,   68.655],\n",
              "       [     nan,  114.2  ,  502.601,  393.1  ,  251.4  ,  125.368,\n",
              "        1960.   ,   69.564],\n",
              "       [     nan,  115.7  ,  518.173,  480.6  ,  257.2  ,  127.852,\n",
              "        1961.   ,   69.331],\n",
              "       [     nan,  116.9  ,  554.894,  400.7  ,  282.7  ,  130.081,\n",
              "        1962.   ,   70.551]])"
            ]
          },
          "metadata": {
            "tags": []
          },
          "execution_count": 27
        }
      ]
    },
    {
      "cell_type": "code",
      "metadata": {
        "colab": {
          "base_uri": "https://localhost:8080/"
        },
        "id": "rIQGMOcCVopk",
        "outputId": "975040ce-e2a6-4825-8daa-380503df5e2f"
      },
      "source": [
        "# 切分数据\n",
        "x_data = data[1:,2:]\n",
        "y_data = data[1:,1]\n",
        "x_data,y_data"
      ],
      "execution_count": null,
      "outputs": [
        {
          "output_type": "execute_result",
          "data": {
            "text/plain": [
              "(array([[ 234.289,  235.6  ,  159.   ,  107.608, 1947.   ,   60.323],\n",
              "        [ 259.426,  232.5  ,  145.6  ,  108.632, 1948.   ,   61.122],\n",
              "        [ 258.054,  368.2  ,  161.6  ,  109.773, 1949.   ,   60.171],\n",
              "        [ 284.599,  335.1  ,  165.   ,  110.929, 1950.   ,   61.187],\n",
              "        [ 328.975,  209.9  ,  309.9  ,  112.075, 1951.   ,   63.221],\n",
              "        [ 346.999,  193.2  ,  359.4  ,  113.27 , 1952.   ,   63.639],\n",
              "        [ 365.385,  187.   ,  354.7  ,  115.094, 1953.   ,   64.989],\n",
              "        [ 363.112,  357.8  ,  335.   ,  116.219, 1954.   ,   63.761],\n",
              "        [ 397.469,  290.4  ,  304.8  ,  117.388, 1955.   ,   66.019],\n",
              "        [ 419.18 ,  282.2  ,  285.7  ,  118.734, 1956.   ,   67.857],\n",
              "        [ 442.769,  293.6  ,  279.8  ,  120.445, 1957.   ,   68.169],\n",
              "        [ 444.546,  468.1  ,  263.7  ,  121.95 , 1958.   ,   66.513],\n",
              "        [ 482.704,  381.3  ,  255.2  ,  123.366, 1959.   ,   68.655],\n",
              "        [ 502.601,  393.1  ,  251.4  ,  125.368, 1960.   ,   69.564],\n",
              "        [ 518.173,  480.6  ,  257.2  ,  127.852, 1961.   ,   69.331],\n",
              "        [ 554.894,  400.7  ,  282.7  ,  130.081, 1962.   ,   70.551]]),\n",
              " array([ 83. ,  88.5,  88.2,  89.5,  96.2,  98.1,  99. , 100. , 101.2,\n",
              "        104.6, 108.4, 110.8, 112.6, 114.2, 115.7, 116.9]))"
            ]
          },
          "metadata": {
            "tags": []
          },
          "execution_count": 26
        }
      ]
    },
    {
      "cell_type": "code",
      "metadata": {
        "colab": {
          "base_uri": "https://localhost:8080/"
        },
        "id": "ItQTdsitV3br",
        "outputId": "1dccece5-06c3-43b6-d234-80e5aa405dd5"
      },
      "source": [
        "# 创建模型\n",
        "# 生成50个值(岭系数lambda)\n",
        "alphas_to_test = np.linspace(0.001, 1)\n",
        "# 创建模型，保存误差值\n",
        "# Ridge：岭回归；CV：交叉验证\n",
        "model = linear_model.RidgeCV(alphas=alphas_to_test, store_cv_values=True)\n",
        "model.fit(x_data,y_data)\n",
        "# 岭系数 \n",
        "print(model.alpha_)\n",
        "# loss\n",
        "print(model.cv_values_.shape)"
      ],
      "execution_count": null,
      "outputs": [
        {
          "output_type": "stream",
          "text": [
            "0.40875510204081633\n",
            "(16, 50)\n"
          ],
          "name": "stdout"
        }
      ]
    },
    {
      "cell_type": "code",
      "metadata": {
        "colab": {
          "base_uri": "https://localhost:8080/",
          "height": 265
        },
        "id": "WglyVX53WlYs",
        "outputId": "eb8fafb3-192d-4a92-e7d4-a30c2244c8d9"
      },
      "source": [
        "# 岭系数和loss值的关系\n",
        "plt.plot(alphas_to_test, model.cv_values_.mean(axis=0))\n",
        "# 选取岭系数值的位置\n",
        "plt.plot(model.alpha_, min(model.cv_values_.mean(axis=0)),'ro')\n",
        "plt.show()"
      ],
      "execution_count": null,
      "outputs": [
        {
          "output_type": "display_data",
          "data": {
            "image/png": "[encoded data removed]",
            "text/plain": [
              "<Figure size 432x288 with 1 Axes>"
            ]
          },
          "metadata": {
            "tags": [],
            "needs_background": "light"
          }
        }
      ]
    },
    {
      "cell_type": "markdown",
      "metadata": {
        "id": "GnMFzAuFYEre"
      },
      "source": [
        "## 自定义岭回归"
      ]
    },
    {
      "cell_type": "code",
      "metadata": {
        "id": "dDg8NdLQXasy"
      },
      "source": [
        "import numpy as np\n",
        "import matplotlib.pyplot as plt\n",
        "from sklearn import linear_model"
      ],
      "execution_count": null,
      "outputs": []
    },
    {
      "cell_type": "code",
      "metadata": {
        "colab": {
          "base_uri": "https://localhost:8080/"
        },
        "id": "ujvwf8TdYK1V",
        "outputId": "5be43d21-64e5-4946-efc5-8dbcb958fd23"
      },
      "source": [
        "data = np.genfromtxt('longley.csv', delimiter = ',')\n",
        "# 切分数据\n",
        "x_data = data[1:,2:]\n",
        "y_data = data[1:,1,np.newaxis]\n",
        "x_data.shape"
      ],
      "execution_count": null,
      "outputs": [
        {
          "output_type": "execute_result",
          "data": {
            "text/plain": [
              "(16, 6)"
            ]
          },
          "metadata": {
            "tags": []
          },
          "execution_count": 61
        }
      ]
    },
    {
      "cell_type": "code",
      "metadata": {
        "colab": {
          "base_uri": "https://localhost:8080/"
        },
        "id": "kGImnosgYNxj",
        "outputId": "eecd59df-7fcf-4a98-ec73-f56bd12b5b2e"
      },
      "source": [
        "# 给样本添加偏置项\n",
        "X_data = np.hstack([np.ones((16,1)),x_data])\n",
        "X_data.shape"
      ],
      "execution_count": null,
      "outputs": [
        {
          "output_type": "execute_result",
          "data": {
            "text/plain": [
              "(16, 7)"
            ]
          },
          "metadata": {
            "tags": []
          },
          "execution_count": 62
        }
      ]
    },
    {
      "cell_type": "code",
      "metadata": {
        "id": "bpBL0hIlYd5K"
      },
      "source": [
        "# 标准方程法-岭回归 求解回归参数\n",
        "def weights_l(xArr, yArr, lam = 0.2):\n",
        "  xMat = np.mat(xArr)\n",
        "  yMat = np.mat(yArr)\n",
        "  xTxMat = xMat.T * xMat\n",
        "  rxTx = xTxMat + np.eye(xMat.shape[1]) * lam\n",
        "  # 计算矩阵值行列式，判断是否有逆矩阵\n",
        "  if np.linalg.det(rxTx) == 0.0:\n",
        "    return\n",
        "  ws = rxTx.I * xMat.T * yMat\n",
        "  return ws"
      ],
      "execution_count": null,
      "outputs": []
    },
    {
      "cell_type": "code",
      "metadata": {
        "colab": {
          "base_uri": "https://localhost:8080/"
        },
        "id": "YjkqYxulZgPY",
        "outputId": "88c81f7d-f809-47a5-bfc2-a89df4a3fb43"
      },
      "source": [
        "weights_l(X_data,y_data)"
      ],
      "execution_count": null,
      "outputs": [
        {
          "output_type": "execute_result",
          "data": {
            "text/plain": [
              "matrix([[ 7.38107884e-04],\n",
              "        [ 2.07703836e-01],\n",
              "        [ 2.10076376e-02],\n",
              "        [ 5.05385441e-03],\n",
              "        [-1.59173066e+00],\n",
              "        [ 1.10442920e-01],\n",
              "        [-2.42280461e-01]])"
            ]
          },
          "metadata": {
            "tags": []
          },
          "execution_count": 66
        }
      ]
    },
    {
      "cell_type": "markdown",
      "metadata": {
        "id": "Be94H5-Zb3NL"
      },
      "source": [
        "## LASSO\n",
        "\n",
        "通过构造一个一阶惩罚函数获得一个精炼的模型；通过最终确定一些指标(变量）系数为零(岭回归估计系数等于0的机会微乎其微，造成筛选变量困难)，解释力很强\n",
        "\n",
        "擅长处理具有多重共线性的数据，与岭回归一样是有偏估计\n",
        "\n",
        "代价函数\n",
        "$$\n",
        "J(\\theta) = \\frac{1}{2m} [\\sum_{i=1}^m (h_\\theta (x^{(i)}-y^{(i)})^2 + \\lambda \\sum_{j=1}^n|\\theta_j|]\n",
        "$$"
      ]
    },
    {
      "cell_type": "markdown",
      "metadata": {
        "id": "fW_Xohgsd_NC"
      },
      "source": [
        "### sklearn-LASSO"
      ]
    },
    {
      "cell_type": "code",
      "metadata": {
        "id": "eIQY7y7DZjyO"
      },
      "source": [
        "import numpy as np\n",
        "from sklearn import linear_model"
      ],
      "execution_count": null,
      "outputs": []
    },
    {
      "cell_type": "code",
      "metadata": {
        "colab": {
          "base_uri": "https://localhost:8080/"
        },
        "id": "blDWiYKMa7BP",
        "outputId": "36a47123-65c1-4c4a-b6e6-734b6f7d4865"
      },
      "source": [
        "data = np.genfromtxt('longley.csv', delimiter=',')\n",
        "x_data = data[1:,2:]\n",
        "y_data = data[1:,1]\n",
        "model = linear_model.LassoCV()\n",
        "model.fit(x_data,y_data)\n",
        "print(model.alpha_)# lasso系数\n",
        "print(model.coef_) # 相关系数 "
      ],
      "execution_count": null,
      "outputs": [
        {
          "output_type": "stream",
          "text": [
            "14.134043936116361\n",
            "[0.10093575 0.00586331 0.00599214 0.         0.         0.        ]\n"
          ],
          "name": "stdout"
        }
      ]
    },
    {
      "cell_type": "markdown",
      "metadata": {
        "id": "Ucjji7pefMlO"
      },
      "source": [
        "## 弹性网(Elastic Net)\n",
        "$$\n",
        "J(\\theta) = \\frac{1}{2m} [\\sum_{i=1}^m(h_\\theta (x^{(i)}) - y^{(i)})^2 + \\lambda \\sum_{j=1}^n|\\theta_j|^q \\ ]\n",
        "$$\n",
        "![](https://gitee.com/Zephon-H/ImagesStore/raw/master/img/20201207171843.png)\n",
        "\n",
        "$$\n",
        "\\lambda \\sum_{j=1}^n (\\alpha \\theta_j^2 + (1-\\alpha) |\\theta_j|)\n",
        "$$"
      ]
    },
    {
      "cell_type": "markdown",
      "metadata": {
        "id": "HrTvvd_xf4rP"
      },
      "source": [
        "### sklearn-弹性网"
      ]
    },
    {
      "cell_type": "code",
      "metadata": {
        "colab": {
          "base_uri": "https://localhost:8080/"
        },
        "id": "plwY8kSxeaAw",
        "outputId": "eac0b246-b70e-4ecc-e5f5-cf90ad382905"
      },
      "source": [
        "import numpy as np\n",
        "from sklearn import linear_model\n",
        "data = np.genfromtxt('longley.csv', delimiter=',')\n",
        "x_data = data[1:,2:]\n",
        "y_data = data[1:,1]\n",
        "model = linear_model.ElasticNetCV()\n",
        "model.fit(x_data,y_data)\n",
        "\n",
        "print(model.alpha_)\n",
        "print(model.coef_)"
      ],
      "execution_count": null,
      "outputs": [
        {
          "output_type": "stream",
          "text": [
            "30.31094405430269\n",
            "[0.1006612  0.00589596 0.00593021 0.         0.         0.        ]\n"
          ],
          "name": "stdout"
        }
      ]
    },
    {
      "cell_type": "code",
      "metadata": {
        "id": "HfpHRXgkglZ2"
      },
      "source": [
        ""
      ],
      "execution_count": null,
      "outputs": []
    },
    {
      "cell_type": "code",
      "metadata": {
        "id": "4fqeEjVngpSO"
      },
      "source": [
        ""
      ],
      "execution_count": null,
      "outputs": []
    }
  ]
}